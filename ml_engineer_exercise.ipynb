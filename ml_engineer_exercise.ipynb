{
 "cells": [
  {
   "cell_type": "markdown",
   "metadata": {},
   "source": [
    "## Importing packages"
   ]
  },
  {
   "cell_type": "code",
   "execution_count": 23,
   "metadata": {},
   "outputs": [],
   "source": [
    "import json\n",
    "import datetime\n",
    "from pyprojroot import here\n",
    "import itertools\n",
    "\n",
    "import pandas as pd\n",
    "from pandas.api.types import is_string_dtype\n",
    "import numpy as np\n",
    "import unittest\n",
    "from pandas import json_normalize"
   ]
  },
  {
   "cell_type": "markdown",
   "source": [
    "## Calculate pearson correlation"
   ],
   "metadata": {
    "collapsed": false
   }
  },
  {
   "cell_type": "code",
   "execution_count": 24,
   "metadata": {},
   "outputs": [],
   "source": [
    "def calc_pearson_correlation(df, goal):\n",
    "    df = df.replace({'international plan': {'yes': True,\n",
    "                                    'no': False}})\n",
    "    df = df.replace({'voice mail plan': {'yes': True,\n",
    "                                'no': False}})\n",
    "    corr_arr = []\n",
    "    for col in df.columns:\n",
    "        if not is_string_dtype(df[col]):  # failing with conversion error on str types\n",
    "            corr_arr.append(df[goal].corr(df[col], method ='pearson', min_periods=1))\n",
    "    return corr_arr\n",
    "\n",
    "df = pd.read_csv('churn_data.csv')\n",
    "goal = 'churn'\n",
    "res = calc_pearson_correlation(df, goal)"
   ]
  },
  {
   "cell_type": "markdown",
   "source": [
    "## group_customer_service_calls"
   ],
   "metadata": {
    "collapsed": false
   }
  },
  {
   "cell_type": "code",
   "execution_count": 31,
   "outputs": [],
   "source": [
    "def group_customer_service_calls(df, value_column):\n",
    "    # df = df.replace({'international plan': {'yes': True,\n",
    "    #                                 'no': False}})\n",
    "    # df = df.replace({'voice mail plan': {'yes': True,\n",
    "    #                             'no': False}})\n",
    "    calls_percentage_mappings = df[value_column].value_counts(normalize=True) * 100\n",
    "    #create a list of our conditions\n",
    "    conditions = [\n",
    "        (df['customer service calls'] >= 3),\n",
    "        (df['customer service calls'] == 1),\n",
    "        (df['customer service calls'] == 2) | (df['customer service calls'] == 0)]\n",
    "\n",
    "    # create a list of the values we want to assign for each condition\n",
    "    values = ['High', 'Low', 'Medium']\n",
    "    df['group'] = np.select(conditions, values)\n",
    "    return df\n",
    "\n",
    "value_column = 'customer service calls'\n",
    "res_df = group_customer_service_calls(df, value_column)"
   ],
   "metadata": {
    "collapsed": false,
    "pycharm": {
     "name": "#%%\n"
    }
   }
  },
  {
   "cell_type": "code",
   "execution_count": 35,
   "outputs": [],
   "source": [
    "def calc_probability(df, column_a, column_b, goal):\n",
    "    res_pivot = pd.pivot_table(\n",
    "        df,\n",
    "        values=goal,\n",
    "        index=[column_a],\n",
    "        columns=[column_b],\n",
    "        aggfunc=lambda x: x.map(int).mean(),\n",
    "        fill_value=0\n",
    "    )\n",
    "    return res_pivot\n",
    "\n",
    "column_a = 'voice mail plan'\n",
    "column_b = 'international plan'\n",
    "goal = 'churn'\n",
    "res_pivot = calc_probability(df, column_a, column_b, goal)"
   ],
   "metadata": {
    "collapsed": false,
    "pycharm": {
     "name": "#%%\n"
    }
   }
  }
 ],
 "metadata": {
  "kernelspec": {
   "name": "pycharm-b6c80760",
   "language": "python",
   "display_name": "PyCharm (bigabid-ml-engineer-home-challenge)"
  },
  "language_info": {
   "codemirror_mode": {
    "name": "ipython",
    "version": 3
   },
   "file_extension": ".py",
   "mimetype": "text/x-python",
   "name": "python",
   "nbconvert_exporter": "python",
   "pygments_lexer": "ipython3",
   "version": "3.7.5"
  }
 },
 "nbformat": 4,
 "nbformat_minor": 4
}